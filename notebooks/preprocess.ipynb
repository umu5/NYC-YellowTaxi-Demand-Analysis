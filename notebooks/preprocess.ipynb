{
 "cells": [
  {
   "cell_type": "code",
   "execution_count": 1,
   "metadata": {},
   "outputs": [],
   "source": [
    "# never mind adding some import statements at the start of the notebook\n",
    "from pyspark.sql.functions import isnan, when, count, col, to_date, lit\n",
    "import pandas as pd\n",
    "from pyspark.sql import functions as F\n",
    "from pyspark.sql.functions import date_format\n",
    "from pyspark.sql.types import StructType, StructField, DoubleType\n",
    "import datetime\n",
    "from pyspark.sql.functions import expr\n",
    "import os\n",
    "import matplotlib.pyplot as plt\n",
    "from pyspark.sql.functions import year, month, concat_ws"
   ]
  },
  {
   "cell_type": "code",
   "execution_count": 2,
   "metadata": {},
   "outputs": [
    {
     "name": "stderr",
     "output_type": "stream",
     "text": [
      "Setting default log level to \"WARN\".\n",
      "To adjust logging level use sc.setLogLevel(newLevel). For SparkR, use setLogLevel(newLevel).\n",
      "23/08/26 16:22:08 WARN NativeCodeLoader: Unable to load native-hadoop library for your platform... using builtin-java classes where applicable\n"
     ]
    }
   ],
   "source": [
    "from pyspark.sql import SparkSession, functions as F\n",
    "\n",
    "# Create a spark session (which will run spark jobs)\n",
    "spark = (\n",
    "    SparkSession.builder.appName(\"MAST30034 Tutorial 2\")\n",
    "    .config(\"spark.sql.repl.eagerEval.enabled\", True)\n",
    "    .config(\"spark.sql.parquet.cacheMetadata\", \"true\")\n",
    "    .config(\"spark.sql.session.timeZone\", \"Etc/UTC\")\n",
    "    .config('spark.driver.memory', '4g')\n",
    "    .config('spark.executor.memory', '2g')\n",
    "    .getOrCreate()\n",
    ")"
   ]
  },
  {
   "cell_type": "markdown",
   "metadata": {},
   "source": [
    "## Following block of code takes the raw weather data. Preprocesses it and saves it as curated weather data"
   ]
  },
  {
   "cell_type": "code",
   "execution_count": 3,
   "metadata": {},
   "outputs": [
    {
     "name": "stderr",
     "output_type": "stream",
     "text": [
      "                                                                                \r"
     ]
    },
    {
     "name": "stdout",
     "output_type": "stream",
     "text": [
      "root\n",
      " |-- STATION: string (nullable = true)\n",
      " |-- NAME: string (nullable = true)\n",
      " |-- DATE: string (nullable = true)\n",
      " |-- AWND: double (nullable = true)\n",
      " |-- PGTM: double (nullable = true)\n",
      " |-- PRCP: double (nullable = true)\n",
      " |-- SNOW: double (nullable = true)\n",
      " |-- TAVG: double (nullable = true)\n",
      " |-- TMAX: double (nullable = true)\n",
      " |-- TMIN: double (nullable = true)\n",
      "\n"
     ]
    },
    {
     "name": "stderr",
     "output_type": "stream",
     "text": [
      "                                                                                \r"
     ]
    },
    {
     "name": "stdout",
     "output_type": "stream",
     "text": [
      "-RECORD 0-----------------------------------\n",
      " STATION | USW00094789                      \n",
      " NAME    | JFK INTERNATIONAL AIRPORT, NY US \n",
      " DATE    | 2022-01-01                       \n",
      " AWND    | 2.8                              \n",
      " PGTM    | null                             \n",
      " PRCP    | 31.0                             \n",
      " SNOW    | 0.0                              \n",
      " TAVG    | 10.1                             \n",
      " TMAX    | 11.7                             \n",
      " TMIN    | 8.9                              \n",
      "only showing top 1 row\n",
      "\n",
      "root\n",
      " |-- station: string (nullable = true)\n",
      " |-- name: string (nullable = true)\n",
      " |-- date: date (nullable = true)\n",
      " |-- awnd: double (nullable = true)\n",
      " |-- prcp: double (nullable = true)\n",
      " |-- snow: double (nullable = true)\n",
      " |-- tavg: double (nullable = true)\n",
      " |-- tmax: double (nullable = true)\n",
      " |-- tmin: double (nullable = true)\n",
      "\n",
      "-RECORD 0-----------------------------------\n",
      " station | USW00094789                      \n",
      " name    | JFK INTERNATIONAL AIRPORT, NY US \n",
      " date    | 2022-01-01                       \n",
      " awnd    | 2.8                              \n",
      " prcp    | 31.0                             \n",
      " snow    | 0.0                              \n",
      " tavg    | 10.1                             \n",
      " tmax    | 11.7                             \n",
      " tmin    | 8.9                              \n",
      "only showing top 1 row\n",
      "\n"
     ]
    },
    {
     "name": "stderr",
     "output_type": "stream",
     "text": [
      "                                                                                \r"
     ]
    }
   ],
   "source": [
    "sdf1 = spark.read.parquet('../data/weather/weather_data.parquet')\n",
    "sdf1.printSchema()\n",
    "sdf1.show(1, vertical=True, truncate=100)\n",
    "# check if there are any null values\n",
    "missing_values = sdf1.agg(*[F.sum(F.when(F.col(c).isNull(), 1).otherwise(0))\n",
    "                          .alias(c) for c in sdf1.columns])\n",
    "\n",
    "# cast date column to date type\n",
    "sdf1 = sdf1.withColumn(\"DATE\", col(\"DATE\").cast(\"date\"))\n",
    "\n",
    "# also drop the PGTM column as it is not useful as all values are null\n",
    "sdf1 = sdf1.drop('PGTM')\n",
    "\n",
    "# also as per industry practice convert to consistent casing\n",
    "consistent_casing = [F.col(col_name).alias(col_name.lower())\n",
    "                    for col_name in sdf1.columns]\n",
    "sdf1 = sdf1.select(*consistent_casing)\n",
    "sdf1.printSchema()\n",
    "sdf1.show(1, vertical=True, truncate=100)\n",
    "\n",
    "# use better column names for better readability\n",
    "sdf1 = sdf1.withColumnRenamed('awnd', 'avg_wind_speed') \\\n",
    "            .withColumnRenamed('tavg', 'avg_temp') \\\n",
    "            .withColumnRenamed('tmax', 'max_temp') \\\n",
    "            .withColumnRenamed('tmin', 'min_temp') \\\n",
    "            .withColumnRenamed('prcp', 'precipitation') \\\n",
    "            .withColumnRenamed('snow', 'snowfall')\n",
    "\n",
    "# create directory for raw weather data and store it there\n",
    "if not os.path.exists('../data/weather_curated/'):\n",
    "    os.mkdir('../data/weather_curated/')\n",
    "\n",
    "# now write this file and if any other present overwrite it\n",
    "sdf1.write.parquet('../data/weather_curated/weather_data.parquet',\\\n",
    "                 mode ='overwrite')"
   ]
  },
  {
   "cell_type": "markdown",
   "metadata": {},
   "source": [
    "## Lets begin some preprocessing on yellow taxi data"
   ]
  },
  {
   "cell_type": "code",
   "execution_count": 4,
   "metadata": {},
   "outputs": [
    {
     "name": "stdout",
     "output_type": "stream",
     "text": [
      "root\n",
      " |-- VendorID: long (nullable = true)\n",
      " |-- tpep_pickup_datetime: timestamp_ntz (nullable = true)\n",
      " |-- tpep_dropoff_datetime: timestamp_ntz (nullable = true)\n",
      " |-- passenger_count: double (nullable = true)\n",
      " |-- trip_distance: double (nullable = true)\n",
      " |-- RatecodeID: double (nullable = true)\n",
      " |-- store_and_fwd_flag: string (nullable = true)\n",
      " |-- PULocationID: long (nullable = true)\n",
      " |-- DOLocationID: long (nullable = true)\n",
      " |-- payment_type: long (nullable = true)\n",
      " |-- fare_amount: double (nullable = true)\n",
      " |-- extra: double (nullable = true)\n",
      " |-- mta_tax: double (nullable = true)\n",
      " |-- tip_amount: double (nullable = true)\n",
      " |-- tolls_amount: double (nullable = true)\n",
      " |-- improvement_surcharge: double (nullable = true)\n",
      " |-- total_amount: double (nullable = true)\n",
      " |-- congestion_surcharge: double (nullable = true)\n",
      " |-- airport_fee: double (nullable = true)\n",
      "\n",
      "root\n",
      " |-- VendorID: integer (nullable = true)\n",
      " |-- tpep_pickup_datetime: timestamp_ntz (nullable = true)\n",
      " |-- tpep_dropoff_datetime: timestamp_ntz (nullable = true)\n",
      " |-- passenger_count: long (nullable = true)\n",
      " |-- trip_distance: double (nullable = true)\n",
      " |-- RatecodeID: long (nullable = true)\n",
      " |-- store_and_fwd_flag: string (nullable = true)\n",
      " |-- PULocationID: integer (nullable = true)\n",
      " |-- DOLocationID: integer (nullable = true)\n",
      " |-- payment_type: long (nullable = true)\n",
      " |-- fare_amount: double (nullable = true)\n",
      " |-- extra: double (nullable = true)\n",
      " |-- mta_tax: double (nullable = true)\n",
      " |-- tip_amount: double (nullable = true)\n",
      " |-- tolls_amount: double (nullable = true)\n",
      " |-- improvement_surcharge: double (nullable = true)\n",
      " |-- total_amount: double (nullable = true)\n",
      " |-- congestion_surcharge: double (nullable = true)\n",
      " |-- Airport_fee: double (nullable = true)\n",
      "\n"
     ]
    }
   ],
   "source": [
    "# lets begin by seeing whether we have same data types for all months\n",
    "sdf = spark.read.parquet('../data/tlc/')\n",
    "sdf_jan = spark.read.parquet('../data/tlc/2022-01.parquet')\n",
    "sdf_jan.printSchema()\n",
    "sdf_feb_23 = spark.read.parquet('../data/tlc/2023-02.parquet')\n",
    "sdf_feb_23.printSchema()"
   ]
  },
  {
   "cell_type": "markdown",
   "metadata": {},
   "source": [
    "## In output for above cell we see that some columns have different data types such as VendorID and passenger_count. First lets cast all data to Jan 2022 schema as it has passenger_count as double. So we can remove any counts that are not whole numbers"
   ]
  },
  {
   "cell_type": "code",
   "execution_count": 5,
   "metadata": {},
   "outputs": [],
   "source": [
    "def cast_to_schema(year, start, end, temp_schema):\n",
    "    \"\"\" This function takes in the year, start and end month and the schema\n",
    "    and casts the columns to the data type and saves it to the data/raw/\n",
    "    directory. `year` is a string, `start` and `end` are integers months and\n",
    "    `temp_schema` is a spark schema.\n",
    "    This function is specific for the TLC data to store data to raw layer.\n",
    "    \"\"\"\n",
    "    \n",
    "    for month in range(start, end+1):\n",
    "        input_path = f'../data/tlc/{year}-{str(month).zfill(2)}.parquet'\n",
    "        output_path = f'../data/raw/{year}-{str(month).zfill(2)}.parquet'\n",
    "        sdf_malformed = spark.read.parquet(input_path)\n",
    "        sdf_malformed = sdf_malformed \\\n",
    "                        .select([F.col(c).cast(temp_schema[i].dataType)\\\n",
    "                        for i, c in enumerate(sdf_malformed.columns)])\n",
    "        sdf_malformed.coalesce(1).write.mode('overwrite').parquet(output_path)"
   ]
  },
  {
   "cell_type": "code",
   "execution_count": 6,
   "metadata": {},
   "outputs": [
    {
     "name": "stderr",
     "output_type": "stream",
     "text": [
      "                                                                                \r"
     ]
    }
   ],
   "source": [
    "# see if there is any non-whole number passenger_count. So it can be removed\n",
    "# before any proper data conversion can be made. Lets cast all data to \n",
    "# jan 2022 schema which contains passenger_count as \"double\"\n",
    "tem_schema = sdf_jan.schema\n",
    "tem_schema\n",
    "cast_to_schema(\"2022\", 1, 12, tem_schema)\n",
    "cast_to_schema(\"2023\", 1, 5, tem_schema)"
   ]
  },
  {
   "cell_type": "code",
   "execution_count": 7,
   "metadata": {},
   "outputs": [
    {
     "name": "stderr",
     "output_type": "stream",
     "text": [
      "[Stage 42:================================================>       (13 + 2) / 15]\r"
     ]
    },
    {
     "name": "stdout",
     "output_type": "stream",
     "text": [
      "Number of rows with non-whole number passenger : 0\n"
     ]
    },
    {
     "name": "stderr",
     "output_type": "stream",
     "text": [
      "                                                                                \r"
     ]
    }
   ],
   "source": [
    "# see if there is any non-whole number passenger_count\n",
    "sdf = spark.read.parquet('../data/raw/*')\n",
    "non_whole_count = sdf.filter(col(\"passenger_count\") % 1 != 0).count()\n",
    "print(f\"Number of rows with non-whole number passenger : {non_whole_count}\")"
   ]
  },
  {
   "cell_type": "markdown",
   "metadata": {},
   "source": [
    "## Ok now we are sure there isn't any non-whole number passenger_count. So, lets cast all data now to Feb 2023 schema which is more closer to the yellow taxi data dictionary"
   ]
  },
  {
   "cell_type": "code",
   "execution_count": 8,
   "metadata": {},
   "outputs": [
    {
     "name": "stdout",
     "output_type": "stream",
     "text": [
      "root\n",
      " |-- VendorID: integer (nullable = true)\n",
      " |-- tpep_pickup_datetime: timestamp_ntz (nullable = true)\n",
      " |-- tpep_dropoff_datetime: timestamp_ntz (nullable = true)\n",
      " |-- passenger_count: long (nullable = true)\n",
      " |-- trip_distance: double (nullable = true)\n",
      " |-- RatecodeID: long (nullable = true)\n",
      " |-- store_and_fwd_flag: string (nullable = true)\n",
      " |-- PULocationID: integer (nullable = true)\n",
      " |-- DOLocationID: integer (nullable = true)\n",
      " |-- payment_type: long (nullable = true)\n",
      " |-- fare_amount: double (nullable = true)\n",
      " |-- extra: double (nullable = true)\n",
      " |-- mta_tax: double (nullable = true)\n",
      " |-- tip_amount: double (nullable = true)\n",
      " |-- tolls_amount: double (nullable = true)\n",
      " |-- improvement_surcharge: double (nullable = true)\n",
      " |-- total_amount: double (nullable = true)\n",
      " |-- congestion_surcharge: double (nullable = true)\n",
      " |-- Airport_fee: double (nullable = true)\n",
      "\n"
     ]
    },
    {
     "name": "stderr",
     "output_type": "stream",
     "text": [
      "                                                                                \r"
     ]
    }
   ],
   "source": [
    "# lets  cast all datatype to 2023 february schema (proper schema)\n",
    "sdf_feb_23.printSchema()\n",
    "\n",
    "# also ensuring we have consistent casing for all columns\n",
    "consistent_col_casing = [F.col(col_name).alias(col_name.lower())\\\n",
    "                        for col_name in sdf_feb_23.columns]\n",
    "sdf_feb_23 = sdf_feb_23.select(*consistent_col_casing)\n",
    "sdf_schema = sdf_feb_23.schema\n",
    "sdf_schema\n",
    "\n",
    "cast_to_schema(2022, 1, 12, sdf_schema)\n",
    "cast_to_schema(2023, 1, 5, sdf_schema)"
   ]
  },
  {
   "cell_type": "code",
   "execution_count": 9,
   "metadata": {},
   "outputs": [
    {
     "name": "stdout",
     "output_type": "stream",
     "text": [
      "root\n",
      " |-- VendorID: integer (nullable = true)\n",
      " |-- tpep_pickup_datetime: timestamp_ntz (nullable = true)\n",
      " |-- tpep_dropoff_datetime: timestamp_ntz (nullable = true)\n",
      " |-- passenger_count: long (nullable = true)\n",
      " |-- trip_distance: double (nullable = true)\n",
      " |-- RatecodeID: long (nullable = true)\n",
      " |-- store_and_fwd_flag: string (nullable = true)\n",
      " |-- PULocationID: integer (nullable = true)\n",
      " |-- DOLocationID: integer (nullable = true)\n",
      " |-- payment_type: long (nullable = true)\n",
      " |-- fare_amount: double (nullable = true)\n",
      " |-- extra: double (nullable = true)\n",
      " |-- mta_tax: double (nullable = true)\n",
      " |-- tip_amount: double (nullable = true)\n",
      " |-- tolls_amount: double (nullable = true)\n",
      " |-- improvement_surcharge: double (nullable = true)\n",
      " |-- total_amount: double (nullable = true)\n",
      " |-- congestion_surcharge: double (nullable = true)\n",
      " |-- airport_fee: double (nullable = true)\n",
      "\n",
      "-RECORD 0------------------------------------\n",
      " VendorID              | 1                   \n",
      " tpep_pickup_datetime  | 2022-10-01 00:03:41 \n",
      " tpep_dropoff_datetime | 2022-10-01 00:18:39 \n",
      " passenger_count       | 1                   \n",
      " trip_distance         | 1.7                 \n",
      " RatecodeID            | 1                   \n",
      " store_and_fwd_flag    | N                   \n",
      " PULocationID          | 249                 \n",
      " DOLocationID          | 107                 \n",
      " payment_type          | 1                   \n",
      " fare_amount           | 9.5                 \n",
      " extra                 | 3.0                 \n",
      " mta_tax               | 0.5                 \n",
      " tip_amount            | 2.65                \n",
      " tolls_amount          | 0.0                 \n",
      " improvement_surcharge | 0.3                 \n",
      " total_amount          | 15.95               \n",
      " congestion_surcharge  | 2.5                 \n",
      " airport_fee           | 0.0                 \n",
      "only showing top 1 row\n",
      "\n"
     ]
    }
   ],
   "source": [
    "# read raw data to verify\n",
    "sdf = spark.read.parquet('../data/raw/*')\n",
    "sdf.printSchema()\n",
    "sdf.show(1, vertical=True, truncate=100)"
   ]
  },
  {
   "cell_type": "markdown",
   "metadata": {},
   "source": [
    "## Done with raw data &#128512;"
   ]
  },
  {
   "cell_type": "code",
   "execution_count": 10,
   "metadata": {},
   "outputs": [
    {
     "name": "stdout",
     "output_type": "stream",
     "text": [
      "-RECORD 0------------------------------------\n",
      " VendorID              | 1                   \n",
      " tpep_pickup_datetime  | 2022-10-01 00:03:41 \n",
      " tpep_dropoff_datetime | 2022-10-01 00:18:39 \n",
      " passenger_count       | 1                   \n",
      " trip_distance         | 1.7                 \n",
      " RatecodeID            | 1                   \n",
      " store_and_fwd_flag    | false               \n",
      " PULocationID          | 249                 \n",
      " DOLocationID          | 107                 \n",
      " payment_type          | 1                   \n",
      " fare_amount           | 9.5                 \n",
      " extra                 | 3.0                 \n",
      " mta_tax               | 0.5                 \n",
      " tip_amount            | 2.65                \n",
      " tolls_amount          | 0.0                 \n",
      " improvement_surcharge | 0.3                 \n",
      " total_amount          | 15.95               \n",
      " congestion_surcharge  | 2.5                 \n",
      " airport_fee           | 0.0                 \n",
      "only showing top 1 row\n",
      "\n"
     ]
    }
   ],
   "source": [
    "# according to data dictionary store_and_fwd_flag represents boolean condition\n",
    "# but currently have N and Y to represent No and Yes respectively\n",
    "sdf = sdf.withColumn('store_and_fwd_flag', \n",
    "    (F.col('store_and_fwd_flag') == 'Y').cast('boolean'))\n",
    "sdf.show(1, vertical=True, truncate = 100)"
   ]
  },
  {
   "cell_type": "code",
   "execution_count": 11,
   "metadata": {},
   "outputs": [
    {
     "name": "stdout",
     "output_type": "stream",
     "text": [
      "Total rows:  55842484 Total columns:  19\n"
     ]
    }
   ],
   "source": [
    "# lets see the datashape before doing any further preprocessing\n",
    "tot_rows = sdf.count()\n",
    "tot_cols = len(sdf.columns)\n",
    "print(\"Total rows: \", tot_rows, \"Total columns: \", tot_cols)"
   ]
  },
  {
   "cell_type": "markdown",
   "metadata": {},
   "source": [
    "## lets see we dont have any months in our data that were affected by covid"
   ]
  },
  {
   "cell_type": "code",
   "execution_count": 12,
   "metadata": {},
   "outputs": [
    {
     "name": "stderr",
     "output_type": "stream",
     "text": [
      "                                                                                \r"
     ]
    },
    {
     "data": {
      "image/png": "[encoded data removed]",
      "text/plain": [
       "<Figure size 1200x600 with 1 Axes>"
      ]
     },
     "metadata": {},
     "output_type": "display_data"
    }
   ],
   "source": [
    "# lets draw the bar chart to see whether our data contains any month affected\n",
    "# by covid\n",
    "\n",
    "# Extract the year and month from the tpep_pickup_datetime column\n",
    "sdf_monthly = sdf.withColumn(\"year\", year(\"tpep_pickup_datetime\")) \\\n",
    "                              .withColumn(\"month\", month(\"tpep_pickup_datetime\"))\n",
    "\n",
    "# Aggregate data by year and month\n",
    "monthly_counts = sdf_monthly.groupBy(\"year\", \"month\") \\\n",
    "                            .count() \\\n",
    "                            .orderBy(\"year\", \"month\") \\\n",
    "                            .withColumn(\"year_month\", \n",
    "                                        concat_ws(\"-\", col(\"year\"), \n",
    "                                                  F.lpad(col(\"month\"), 2, '0'))) \\\n",
    "                            .toPandas()\n",
    "# Plot\n",
    "axis = monthly_counts \\\n",
    "       .set_index(\"year_month\")[\"count\"] \\\n",
    "       .plot(kind='bar', color='purple', legend=None, figsize=(12,6))\n",
    "\n",
    "# Set x-ticks for 2022-01 to 2023-05\n",
    "all_ticks = monthly_counts[\"year_month\"].tolist()\n",
    "selected_ticks = [f\"{year}-{str(month).zfill(2)}\" for year in [2022, 2023] \\\n",
    "                  for month in range(1, 13) if not (year == 2023 and month > 5)]\n",
    "tick_positions = [all_ticks.index(tick) for tick in selected_ticks]\n",
    "plt.xticks(tick_positions, selected_ticks, rotation=45)\n",
    "\n",
    "# Adjust xlim to not cut off bars\n",
    "first_position = tick_positions[0] - 0.5\n",
    "last_position = tick_positions[-1] + 0.5\n",
    "\n",
    "plt.xlim(first_position, last_position)\n",
    "\n",
    "plt.title(\"Total Trips by Month\", fontsize=20)\n",
    "plt.xlabel(\"Year-Month\", fontsize=16)\n",
    "plt.ylabel(\"Number of Trips\", fontsize=16)\n",
    "plt.xticks(fontsize=14)\n",
    "plt.yticks(fontsize=14)\n",
    "axis.yaxis.offsetText.set_fontsize(14)\n",
    "plt.tight_layout()\n",
    "\n",
    "# Save plot\n",
    "plt.savefig('../plots/trips_by_all_months.png')\n",
    "plt.show()"
   ]
  },
  {
   "cell_type": "code",
   "execution_count": 13,
   "metadata": {},
   "outputs": [
    {
     "name": "stderr",
     "output_type": "stream",
     "text": [
      "[Stage 93:================================================>       (13 + 2) / 15]\r"
     ]
    },
    {
     "name": "stdout",
     "output_type": "stream",
     "text": [
      "Total rows:  53378584 Total columns:  19\n"
     ]
    },
    {
     "name": "stderr",
     "output_type": "stream",
     "text": [
      "                                                                                \r"
     ]
    }
   ],
   "source": [
    "# ok we see that 2022-01 is clearly affected as it has lowest count\n",
    "# than any other lets remove jan-2022 data from further analysis\n",
    "sdf_filtered = sdf.filter(~((year(col(\"tpep_pickup_datetime\")) == 2022) \\\n",
    "                            & (month(col(\"tpep_pickup_datetime\")) == 1)))\n",
    "sdf = sdf_filtered\n",
    "\n",
    "# lets see the datashape again\n",
    "tot_rows = sdf.count()\n",
    "tot_cols = len(sdf.columns)\n",
    "print(\"Total rows: \", tot_rows, \"Total columns: \", tot_cols)"
   ]
  },
  {
   "cell_type": "markdown",
   "metadata": {},
   "source": [
    "## Need to handle missing data now"
   ]
  },
  {
   "cell_type": "code",
   "execution_count": 14,
   "metadata": {},
   "outputs": [
    {
     "name": "stderr",
     "output_type": "stream",
     "text": [
      "[Stage 96:=========================================>              (11 + 4) / 15]\r"
     ]
    },
    {
     "name": "stdout",
     "output_type": "stream",
     "text": [
      "+--------+--------------------+---------------------+---------------+-------------+----------+------------------+------------+------------+------------+-----------+-----+-------+----------+------------+---------------------+------------+--------------------+-----------+\n",
      "|VendorID|tpep_pickup_datetime|tpep_dropoff_datetime|passenger_count|trip_distance|RatecodeID|store_and_fwd_flag|PULocationID|DOLocationID|payment_type|fare_amount|extra|mta_tax|tip_amount|tolls_amount|improvement_surcharge|total_amount|congestion_surcharge|airport_fee|\n",
      "+--------+--------------------+---------------------+---------------+-------------+----------+------------------+------------+------------+------------+-----------+-----+-------+----------+------------+---------------------+------------+--------------------+-----------+\n",
      "|       0|                   0|                    0|        1725465|            0|   1725465|           1725465|           0|           0|           0|          0|    0|      0|         0|           0|                    0|           0|             1725465|    1725465|\n",
      "+--------+--------------------+---------------------+---------------+-------------+----------+------------------+------------+------------+------------+-----------+-----+-------+----------+------------+---------------------+------------+--------------------+-----------+\n",
      "\n"
     ]
    },
    {
     "name": "stderr",
     "output_type": "stream",
     "text": [
      "                                                                                \r"
     ]
    }
   ],
   "source": [
    "# lets see which columns have missing values\n",
    "missing_values = sdf.agg(*[F.sum(F.when(F.col(c).isNull(), 1)\\\n",
    "                        .otherwise(0)).alias(c) for c in sdf.columns])\n",
    "missing_values.show()"
   ]
  },
  {
   "cell_type": "code",
   "execution_count": 15,
   "metadata": {},
   "outputs": [
    {
     "name": "stderr",
     "output_type": "stream",
     "text": [
      "                                                                                \r"
     ]
    },
    {
     "name": "stdout",
     "output_type": "stream",
     "text": [
      "percentage of missing passenger_count data: 3.2325042567633493%\n"
     ]
    },
    {
     "name": "stderr",
     "output_type": "stream",
     "text": [
      "[Stage 102:===============================================>       (13 + 2) / 15]\r"
     ]
    },
    {
     "name": "stdout",
     "output_type": "stream",
     "text": [
      "+--------+--------------------+---------------------+---------------+-------------+----------+------------------+------------+------------+------------+-----------+-----+-------+----------+------------+---------------------+------------+--------------------+-----------+\n",
      "|VendorID|tpep_pickup_datetime|tpep_dropoff_datetime|passenger_count|trip_distance|RatecodeID|store_and_fwd_flag|PULocationID|DOLocationID|payment_type|fare_amount|extra|mta_tax|tip_amount|tolls_amount|improvement_surcharge|total_amount|congestion_surcharge|airport_fee|\n",
      "+--------+--------------------+---------------------+---------------+-------------+----------+------------------+------------+------------+------------+-----------+-----+-------+----------+------------+---------------------+------------+--------------------+-----------+\n",
      "|       0|                   0|                    0|              0|            0|         0|                 0|           0|           0|           0|          0|    0|      0|         0|           0|                    0|           0|                   0|          0|\n",
      "+--------+--------------------+---------------------+---------------+-------------+----------+------------------+------------+------------+------------+-----------+-----+-------+----------+------------+---------------------+------------+--------------------+-----------+\n",
      "\n"
     ]
    },
    {
     "name": "stderr",
     "output_type": "stream",
     "text": [
      "                                                                                \r"
     ]
    }
   ],
   "source": [
    "# well there is immense amount of missing passenger_count data. \n",
    "# (imputation doesn't makes sense here) so let drop those (1796968) rows\n",
    "missing_passenger = (missing_values.collect()[0]['passenger_count'] \n",
    "                    / tot_rows * 100)\n",
    "print(f'percentage of missing passenger_count data: {missing_passenger}%')\n",
    "\n",
    "sdf_clean = sdf.filter(col(\"passenger_count\").isNotNull())\n",
    "missing_values2 = sdf_clean.agg(*[F.sum(F.when(F.col(c).isNull(), 1)\\\n",
    "                            .otherwise(0)).alias(c) for c in sdf_clean.columns])\n",
    "missing_values2.show()"
   ]
  },
  {
   "cell_type": "markdown",
   "metadata": {},
   "source": [
    "`after removing misssing passenger_count no other values seems to be missing` \\\n",
    "`How nice is this dataset? No missing values at all.`\n",
    "## lets start doing some outlier detection\n"
   ]
  },
  {
   "cell_type": "code",
   "execution_count": 16,
   "metadata": {},
   "outputs": [
    {
     "name": "stderr",
     "output_type": "stream",
     "text": [
      "                                                                                \r"
     ]
    },
    {
     "name": "stdout",
     "output_type": "stream",
     "text": [
      "Number of rows with time_difference greater than 5 hours: 60073, percentage: 0.11630081815582134%\n"
     ]
    },
    {
     "name": "stderr",
     "output_type": "stream",
     "text": [
      "[Stage 114:===============================================>       (13 + 2) / 15]\r"
     ]
    },
    {
     "name": "stdout",
     "output_type": "stream",
     "text": [
      "Number of rows with invalid drop off time: 22290, percentage: 0.04320349684335366%\n"
     ]
    },
    {
     "name": "stderr",
     "output_type": "stream",
     "text": [
      "                                                                                \r"
     ]
    }
   ],
   "source": [
    "# Add a new temporary column to record trip distance so can remove those\n",
    "# trips whcih span more than 5 hours (as per google maps we can cover whole\n",
    "# NYC in 3 hours)\n",
    "sdf_with_difference = sdf_clean.withColumn(\"time_difference\", \n",
    "                                          col(\"tpep_dropoff_datetime\")\n",
    "                                          - col(\"tpep_pickup_datetime\"))\n",
    "\n",
    "# Count rows where the time_difference is more than 5 hours and remove them\n",
    "count_greater_than_5_hours = sdf_with_difference \\\n",
    "                             .filter(expr(\"time_difference \"\n",
    "                             \"> interval 5 hours\")).count()\n",
    "\n",
    "print(f\"Number of rows with time_difference greater than 5 hours: \"\n",
    "      f\"{count_greater_than_5_hours}, percentage: \" \n",
    "      f\"{count_greater_than_5_hours/sdf_with_difference.count() * 100}%\")\n",
    "\n",
    "# remove those rows where time_difference is more than 5 hours                                      \n",
    "sdf_clean2 = sdf_with_difference \\\n",
    "            .filter(expr(\"time_difference <= interval 5 hours\"))\n",
    "# no further need of time_difference column\n",
    "sdf_clean2 = sdf_clean2.drop(\"time_difference\")\n",
    "\n",
    "# count rows that records drop off time before pick up time\n",
    "invalid_dropoff = sdf_clean2.filter(expr(\"tpep_dropoff_datetime\"\n",
    "                                    \" <= tpep_pickup_datetime\")).count()\n",
    "\n",
    "print(f\"Number of rows with invalid drop off time: {invalid_dropoff},\" \n",
    "      f\" percentage: {invalid_dropoff/sdf_clean2.count() * 100}%\")\n",
    "\n",
    "# now remove rows that records drop off time before pick up time\n",
    "sdf_clean2 = sdf_clean2.filter(expr(\"tpep_dropoff_datetime\"\n",
    "                                    \" > tpep_pickup_datetime\"))"
   ]
  },
  {
   "cell_type": "code",
   "execution_count": 17,
   "metadata": {},
   "outputs": [
    {
     "name": "stderr",
     "output_type": "stream",
     "text": [
      "                                                                                \r"
     ]
    },
    {
     "name": "stdout",
     "output_type": "stream",
     "text": [
      "Number of invalid location IDs: 907496 percentage: 1.7597104839804947%\n"
     ]
    },
    {
     "name": "stderr",
     "output_type": "stream",
     "text": [
      "[Stage 126:===============================================>       (13 + 2) / 15]\r"
     ]
    },
    {
     "name": "stdout",
     "output_type": "stream",
     "text": [
      "50663260\n"
     ]
    },
    {
     "name": "stderr",
     "output_type": "stream",
     "text": [
      "                                                                                \r"
     ]
    }
   ],
   "source": [
    "# reomove Trips with a pick-up/drop-off location ID out of the range 1-263\n",
    "# because only these are valid zones for NYC\n",
    "sdf_clean3 = sdf_clean2.filter(expr(\"PULocationID >= 1 \"\n",
    "                                    \"AND PULocationID <= 263 \"\n",
    "                                    \"AND DOLocationID >= 1 \"\n",
    "                                    \"AND DOLocationID <= 263\"))\n",
    "\n",
    "invalid_id = sdf_clean2.count() - sdf_clean3.count()\n",
    "print(f\"Number of invalid location IDs: {invalid_id}\",\n",
    "      f\"percentage: {invalid_id/sdf_clean2.count()*100}%\")\n",
    "print(sdf_clean3.count())"
   ]
  },
  {
   "cell_type": "code",
   "execution_count": 18,
   "metadata": {},
   "outputs": [
    {
     "name": "stderr",
     "output_type": "stream",
     "text": [
      "[Stage 132:=======================================================(15 + 0) / 15]\r"
     ]
    },
    {
     "name": "stdout",
     "output_type": "stream",
     "text": [
      "invalid passenger count: 968512 percentage: 1.9116653764483376%\n"
     ]
    },
    {
     "name": "stderr",
     "output_type": "stream",
     "text": [
      "                                                                                \r"
     ]
    }
   ],
   "source": [
    "# remove rows with passenger count 0 or less as it is invalid imputation donot\n",
    "# make sense\n",
    "sdf_clean4 = sdf_clean3.filter(expr(\"passenger_count > 0\"))\n",
    "data_count = sdf_clean3.count()\n",
    "invalid_passenger_count = data_count - sdf_clean4.count()\n",
    "print(f\"invalid passenger count: {invalid_passenger_count}\"\n",
    "      f\" percentage: {invalid_passenger_count/data_count*100}%\")"
   ]
  },
  {
   "cell_type": "code",
   "execution_count": 19,
   "metadata": {},
   "outputs": [
    {
     "name": "stderr",
     "output_type": "stream",
     "text": [
      "[Stage 138:===============================================>       (13 + 2) / 15]\r"
     ]
    },
    {
     "name": "stdout",
     "output_type": "stream",
     "text": [
      "Number of invalid trip_distance records: 554525 percentage: 1.115862384491818%\n"
     ]
    },
    {
     "name": "stderr",
     "output_type": "stream",
     "text": [
      "                                                                                \r"
     ]
    }
   ],
   "source": [
    "# remove rows with trip_distance 0 or less\n",
    "sdf_clean5 = sdf_clean4.filter(expr(\"trip_distance > 0\"))\n",
    "data_count = sdf_clean4.count()\n",
    "invalid_trip_dis = data_count - sdf_clean5.count()\n",
    "print(f\"Number of invalid trip_distance records: {invalid_trip_dis}\"\n",
    "      f\" percentage: {invalid_trip_dis/data_count*100}%\")"
   ]
  },
  {
   "cell_type": "code",
   "execution_count": 20,
   "metadata": {},
   "outputs": [
    {
     "name": "stdout",
     "output_type": "stream",
     "text": [
      "0\n",
      "0\n",
      "0\n"
     ]
    },
    {
     "name": "stderr",
     "output_type": "stream",
     "text": [
      "[Stage 150:===============================================>       (13 + 2) / 15]\r"
     ]
    },
    {
     "name": "stdout",
     "output_type": "stream",
     "text": [
      "322390\n"
     ]
    },
    {
     "name": "stderr",
     "output_type": "stream",
     "text": [
      "                                                                                \r"
     ]
    }
   ],
   "source": [
    "# see if other outliers present according to data dictionary\n",
    "print(sdf_clean5.filter(expr('VendorID > 2 AND vendorID < 1')).count())\n",
    "print(sdf_clean5.filter(expr('RateCodeID > 6 AND RateCodeID < 1')).count())\n",
    "print(sdf_clean5.filter(expr('payment_type > 6 AND payment_type < 1')).count())\n",
    "print(sdf_clean5.filter(expr(\"improvement_surcharge < 0 OR fare_amount < 0\"\n",
    "                            \" OR extra < 0 OR mta_tax < 0 or tip_amount < 0\"\n",
    "                            \" OR total_amount < 0 OR congestion_surcharge < 0\"\n",
    "                            \" OR airport_fee < 0 OR tip_amount < 0\"\n",
    "                            \" OR tolls_amount < 0\")).count())"
   ]
  },
  {
   "cell_type": "code",
   "execution_count": 21,
   "metadata": {},
   "outputs": [
    {
     "name": "stderr",
     "output_type": "stream",
     "text": [
      "[Stage 156:===============================================>       (13 + 2) / 15]\r"
     ]
    },
    {
     "name": "stdout",
     "output_type": "stream",
     "text": [
      "rows removed 322390 percentage: 0.6560613288222156%\n"
     ]
    },
    {
     "name": "stderr",
     "output_type": "stream",
     "text": [
      "                                                                                \r"
     ]
    }
   ],
   "source": [
    "# so we have some outliers in above cell lets remove those\n",
    "sdf_clean6 = sdf_clean5.filter(expr(\" improvement_surcharge >= 0\"\n",
    "                                    \" AND fare_amount >= 0 AND extra >= 0\"\n",
    "                                    \" AND mta_tax >= 0 AND tip_amount >= 0\"\n",
    "                                    \" AND total_amount >= 0\"\n",
    "                                    \" AND congestion_surcharge >= 0\"\n",
    "                                    \" AND airport_fee >= 0 AND tip_amount >= 0\"\n",
    "                                    \" AND tolls_amount >= 0\"))\n",
    "prev = sdf_clean5.count()\n",
    "removed = prev - sdf_clean6.count()\n",
    "print(f\"rows removed {removed} \"\n",
    "      f\"percentage: {removed/prev*100}%\")"
   ]
  },
  {
   "cell_type": "code",
   "execution_count": 22,
   "metadata": {},
   "outputs": [
    {
     "name": "stderr",
     "output_type": "stream",
     "text": [
      "[Stage 162:===================================================>   (14 + 1) / 15]\r"
     ]
    },
    {
     "name": "stdout",
     "output_type": "stream",
     "text": [
      "rows removed 1126 percentage: 0.002306534171641744%\n"
     ]
    },
    {
     "name": "stderr",
     "output_type": "stream",
     "text": [
      "                                                                                \r"
     ]
    }
   ],
   "source": [
    "# also we might have some wrong date recorded in the data, we should remove them\n",
    "from pyspark.sql.functions import col, to_date, lit, date_format\n",
    "\n",
    "\n",
    "sdf_clean7 = sdf_clean6 \\\n",
    "            .filter((date_format(col(\"tpep_pickup_datetime\"), 'yyyy-MM-dd') \\\n",
    "                        >= lit('2022-02-01')) \\\n",
    "                    & (date_format(col(\"tpep_pickup_datetime\"), 'yyyy-MM-dd') \\\n",
    "                        <= lit('2023-05-31')) \\\n",
    "                    & (date_format(col(\"tpep_dropoff_datetime\"), 'yyyy-MM-dd') \\\n",
    "                        >= lit('2022-02-01')) \\\n",
    "                    & (date_format(col(\"tpep_dropoff_datetime\"), 'yyyy-MM-dd') \\\n",
    "                        <= lit('2023-05-31')))\n",
    "\n",
    "prev = sdf_clean6.count()\n",
    "removed = prev - sdf_clean7.count()\n",
    "print(f\"rows removed {removed} \"\n",
    "      f\"percentage: {removed/prev*100}%\")"
   ]
  },
  {
   "cell_type": "code",
   "execution_count": 23,
   "metadata": {},
   "outputs": [
    {
     "name": "stderr",
     "output_type": "stream",
     "text": [
      "[Stage 171:===================================================>   (14 + 1) / 15]\r"
     ]
    },
    {
     "name": "stdout",
     "output_type": "stream",
     "text": [
      "data left after preprocessing:  48816707\n",
      "percentage of data removed:  8.54626829366624\n"
     ]
    },
    {
     "name": "stderr",
     "output_type": "stream",
     "text": [
      "                                                                                \r"
     ]
    }
   ],
   "source": [
    "# lets see how much percentage of data is removed\n",
    "prev = sdf.count()\n",
    "removed = prev - sdf_clean7.count()\n",
    "print(\"data left after preprocessing: \", sdf_clean7.count())\n",
    "print(\"percentage of data removed: \", removed/prev*100)\n"
   ]
  },
  {
   "cell_type": "markdown",
   "metadata": {},
   "source": [
    "## PHEWWW! Done with all yellow taxi data preprocessing\n",
    "## and outlier detection &#128512;"
   ]
  },
  {
   "cell_type": "code",
   "execution_count": 24,
   "metadata": {},
   "outputs": [
    {
     "name": "stderr",
     "output_type": "stream",
     "text": [
      "                                                                                \r"
     ]
    }
   ],
   "source": [
    "# now store data in curated layer\n",
    "sdf_clean7.write.parquet('../data/curated/yellow_taxi.parquet',\\\n",
    "                        mode ='overwrite')"
   ]
  }
 ],
 "metadata": {
  "kernelspec": {
   "display_name": "base",
   "language": "python",
   "name": "python3"
  },
  "language_info": {
   "codemirror_mode": {
    "name": "ipython",
    "version": 3
   },
   "file_extension": ".py",
   "mimetype": "text/x-python",
   "name": "python",
   "nbconvert_exporter": "python",
   "pygments_lexer": "ipython3",
   "version": "3.9.13"
  },
  "orig_nbformat": 4
 },
 "nbformat": 4,
 "nbformat_minor": 2
}
